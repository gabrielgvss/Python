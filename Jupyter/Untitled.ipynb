{
 "cells": [
  {
   "cell_type": "markdown",
   "id": "f137ffd1",
   "metadata": {},
   "source": [
    "### NOTEBOOK DE ELABORAÇÃO DASHBOARDS\n"
   ]
  },
  {
   "cell_type": "markdown",
   "id": "af50714f",
   "metadata": {},
   "source": [
    "##### BIBLIOTECAS\n"
   ]
  },
  {
   "cell_type": "code",
   "execution_count": 42,
   "id": "41eff1e9",
   "metadata": {},
   "outputs": [],
   "source": [
    "import pandas as pd\n",
    "import openpyxl as oxl\n",
    "from dash import Dash, html, dcc\n",
    "from dash.dependencies import Input, Output\n",
    "import plotly.express as px"
   ]
  },
  {
   "cell_type": "markdown",
   "id": "6843bbe3",
   "metadata": {},
   "source": [
    "###### CRIAÇÃO DA APLICAÇÃO\n"
   ]
  },
  {
   "cell_type": "code",
   "execution_count": 54,
   "id": "50180e6e",
   "metadata": {},
   "outputs": [],
   "source": [
    "app = Dash(__name__)"
   ]
  },
  {
   "cell_type": "code",
   "execution_count": 55,
   "id": "a2091d6c",
   "metadata": {},
   "outputs": [],
   "source": [
    "#BASE DE DADOS:\n",
    "df = pd.read_excel(\"vendas.xlsx\")"
   ]
  },
  {
   "cell_type": "code",
   "execution_count": 56,
   "id": "b15b2a1b",
   "metadata": {},
   "outputs": [],
   "source": [
    "#DEFINIÇÃO DO TIPO DE GRÁFICO\n",
    "fig = px.bar(df, x=\"Produto\", y=\"Quantidade\", color=\"ID Loja\", barmode=\"group\")\n",
    "opcoes = list(df['ID Loja'].unique())\n",
    "opcoes.append(\"Todas as lojas\")\n",
    "\n",
    "#EDIÇÃO DO LAYOUT\n",
    "app.layout = html.Div(children=[\n",
    "    html.H1(children=\"Faturamento das Lojas\"),\n",
    "    \n",
    "    html.H2(children=\"Gráfico com a quantidade dos produtos vendidos por loja\"),\n",
    "    \n",
    "    html.Div(id='texto'),\n",
    "    \n",
    "    dcc.Dropdown(opcoes, value='Todas as lojas', id='lista_lojas'),\n",
    "    \n",
    "    dcc.Graph(\n",
    "        id='grafico_qtd_vendas',\n",
    "        figure=fig\n",
    "    )\n",
    "])\n",
    "\n",
    "#AÇÕES INTERATIVAS DO GRÁFICO\n",
    "#Atualizar seleção:\n",
    "@app.callback(\n",
    "    Output('grafico_qtd_vendas','figure'),\n",
    "    Input('lista_lojas', 'value')\n",
    ")\n",
    "def update_output(value):\n",
    "    if value == \"Todas as lojas\":\n",
    "        fig = px.bar(df, x=\"Produto\", y=\"Quantidade\", color=\"ID Loja\", barmode=\"group\")\n",
    "    else:\n",
    "        tabela_filtrada = df.loc[df['ID Loja']==value, :]\n",
    "        fig = px.bar(tabela_filtrada, x=\"Produto\", y=\"Quantidade\", color=\"ID Loja\", barmode=\"group\")\n",
    "    return fig\n",
    "\n"
   ]
  },
  {
   "cell_type": "code",
   "execution_count": 57,
   "id": "3781137b",
   "metadata": {
    "scrolled": false
   },
   "outputs": [
    {
     "data": {
      "text/html": [
       "\n",
       "        <iframe\n",
       "            width=\"100%\"\n",
       "            height=\"650\"\n",
       "            src=\"http://127.0.0.1:8050/\"\n",
       "            frameborder=\"0\"\n",
       "            allowfullscreen\n",
       "            \n",
       "        ></iframe>\n",
       "        "
      ],
      "text/plain": [
       "<IPython.lib.display.IFrame at 0x273910eb090>"
      ]
     },
     "metadata": {},
     "output_type": "display_data"
    }
   ],
   "source": [
    "#EXECUTAR APLICAÇÃO\n",
    "if __name__ == '__main__':\n",
    "    app.run_server(debug=False)"
   ]
  },
  {
   "cell_type": "code",
   "execution_count": null,
   "id": "a793540c",
   "metadata": {},
   "outputs": [],
   "source": []
  }
 ],
 "metadata": {
  "kernelspec": {
   "display_name": "Python 3 (ipykernel)",
   "language": "python",
   "name": "python3"
  },
  "language_info": {
   "codemirror_mode": {
    "name": "ipython",
    "version": 3
   },
   "file_extension": ".py",
   "mimetype": "text/x-python",
   "name": "python",
   "nbconvert_exporter": "python",
   "pygments_lexer": "ipython3",
   "version": "3.11.5"
  }
 },
 "nbformat": 4,
 "nbformat_minor": 5
}
