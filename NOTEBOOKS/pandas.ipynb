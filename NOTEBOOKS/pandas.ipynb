{
 "cells": [
  {
   "cell_type": "code",
   "execution_count": 3,
   "metadata": {
    "id": "76b0_x8qAYtt"
   },
   "outputs": [],
   "source": [
    "import pandas as pd"
   ]
  },
  {
   "cell_type": "code",
   "execution_count": 4,
   "metadata": {
    "colab": {
     "base_uri": "https://localhost:8080/",
     "height": 35
    },
    "id": "OCguyxwiAdEe",
    "outputId": "1b504419-2f8a-467c-d265-e4841cb1e30e"
   },
   "outputs": [
    {
     "data": {
      "text/plain": [
       "'2.0.3'"
      ]
     },
     "execution_count": 4,
     "metadata": {},
     "output_type": "execute_result"
    }
   ],
   "source": [
    "pd.__version__"
   ]
  },
  {
   "cell_type": "code",
   "execution_count": 5,
   "metadata": {
    "id": "Qr6F1VgnAfMu"
   },
   "outputs": [],
   "source": [
    "#SERIES EM PANDAS:\n",
    "# - Similares a arrays unidimensionais do numpy\n",
    "# - Estruturas similares a \"colunas\" de dados\n",
    "# - Arranjos lineares que possuem index, nome, elementos e tipagem"
   ]
  },
  {
   "cell_type": "code",
   "execution_count": 6,
   "metadata": {
    "colab": {
     "base_uri": "https://localhost:8080/"
    },
    "id": "w6Z4UxzZAikN",
    "outputId": "1126d667-2afd-4f1d-d36a-92b1a64b1079"
   },
   "outputs": [
    {
     "name": "stdout",
     "output_type": "stream",
     "text": [
      "0    1.3\n",
      "1    0.2\n",
      "2   -3.0\n",
      "3    0.9\n",
      "4   -0.5\n",
      "Name: crescimento, dtype: float64\n",
      "crescimento\n",
      "float64\n",
      "[ 1.3  0.2 -3.   0.9 -0.5]\n"
     ]
    }
   ],
   "source": [
    "# CRIANDO SERIES A PARTIR DE LISTAS:\n",
    "s = pd.Series([1.3, 0.2, -3, 0.9, -0.5], name='crescimento')\n",
    "print(s)\n",
    "print(s.name)\n",
    "print(s.dtype)\n",
    "print(s.values)"
   ]
  },
  {
   "cell_type": "code",
   "execution_count": 7,
   "metadata": {
    "colab": {
     "base_uri": "https://localhost:8080/"
    },
    "id": "lge9UsXeD7JZ",
    "outputId": "bd5b376e-a0d2-480e-c5f4-158f43450260"
   },
   "outputs": [
    {
     "name": "stdout",
     "output_type": "stream",
     "text": [
      "RangeIndex(start=0, stop=5, step=1)\n",
      "0.9\n"
     ]
    },
    {
     "data": {
      "text/plain": [
       "1    0.2\n",
       "2   -3.0\n",
       "Name: crescimento, dtype: float64"
      ]
     },
     "execution_count": 7,
     "metadata": {},
     "output_type": "execute_result"
    }
   ],
   "source": [
    "# - Indice de serie:\n",
    "print(s.index)\n",
    "print(s[3])\n",
    "s[1:3]"
   ]
  },
  {
   "cell_type": "code",
   "execution_count": 8,
   "metadata": {
    "colab": {
     "base_uri": "https://localhost:8080/"
    },
    "id": "ryVDAz6yHLCg",
    "outputId": "85acda31-08dd-4cdf-bfc6-e7eb7dcf1796"
   },
   "outputs": [
    {
     "data": {
      "text/plain": [
       "Sudeste         8821341\n",
       "Nordeste         324325\n",
       "Sul              234523\n",
       "Norte           1823123\n",
       "Centro-Oeste      81234\n",
       "dtype: int64"
      ]
     },
     "execution_count": 8,
     "metadata": {},
     "output_type": "execute_result"
    }
   ],
   "source": [
    "# CRIACAO DE SERIES A PARTIR DE DICTS:\n",
    "pop_br_dict = {\n",
    "    'Sudeste': 8821341,\n",
    "    'Nordeste': 324325,\n",
    "    'Sul': 234523,\n",
    "    'Norte': 1823123,\n",
    "    'Centro-Oeste': 81234\n",
    "}\n",
    "\n",
    "s = pd.Series(pop_br_dict)\n",
    "s"
   ]
  },
  {
   "cell_type": "code",
   "execution_count": 9,
   "metadata": {
    "colab": {
     "base_uri": "https://localhost:8080/"
    },
    "id": "MubGODcSHTV3",
    "outputId": "4cbb9736-9b7e-4bb6-b856-21bdf532fb35"
   },
   "outputs": [
    {
     "data": {
      "text/plain": [
       "234523"
      ]
     },
     "execution_count": 9,
     "metadata": {},
     "output_type": "execute_result"
    }
   ],
   "source": [
    "s['Sul']"
   ]
  },
  {
   "cell_type": "code",
   "execution_count": 10,
   "metadata": {
    "colab": {
     "base_uri": "https://localhost:8080/"
    },
    "id": "Qx_AxZfOHVIA",
    "outputId": "c81d2a70-9f86-4364-ffa6-c3b0f1fb6f33"
   },
   "outputs": [
    {
     "data": {
      "text/plain": [
       "Nordeste     324325\n",
       "Sul          234523\n",
       "Norte       1823123\n",
       "dtype: int64"
      ]
     },
     "execution_count": 10,
     "metadata": {},
     "output_type": "execute_result"
    }
   ],
   "source": [
    "s['Nordeste':'Norte']"
   ]
  },
  {
   "cell_type": "code",
   "execution_count": 11,
   "metadata": {
    "colab": {
     "base_uri": "https://localhost:8080/"
    },
    "id": "TUirsJezHv0P",
    "outputId": "c092296b-9306-4b0b-8c44-53eaf5baa757"
   },
   "outputs": [
    {
     "data": {
      "text/plain": [
       "0    8821341\n",
       "1     324325\n",
       "2     234523\n",
       "3    1823123\n",
       "4      81234\n",
       "dtype: int64"
      ]
     },
     "execution_count": 11,
     "metadata": {},
     "output_type": "execute_result"
    }
   ],
   "source": [
    "\n",
    "\n",
    "s.index = range(0,len(s))\n",
    "s"
   ]
  },
  {
   "cell_type": "code",
   "execution_count": 12,
   "metadata": {
    "colab": {
     "base_uri": "https://localhost:8080/"
    },
    "id": "BE2g7n-AKI8u",
    "outputId": "abbc7e95-99f7-439a-fd11-bd2298c05533"
   },
   "outputs": [
    {
     "data": {
      "text/plain": [
       "SE     8821341\n",
       "NE      324325\n",
       "SUL     234523\n",
       "NOR    1823123\n",
       "CO       81234\n",
       "dtype: int64"
      ]
     },
     "execution_count": 12,
     "metadata": {},
     "output_type": "execute_result"
    }
   ],
   "source": [
    "s.index = ['SE', 'NE', 'SUL', 'NOR', 'CO']\n",
    "s"
   ]
  },
  {
   "cell_type": "code",
   "execution_count": 20,
   "metadata": {
    "id": "oS9BwDENKVqn"
   },
   "outputs": [
    {
     "name": "stdout",
     "output_type": "stream",
     "text": [
      "SOMA= 11284546 \n",
      " MULTIPLICADOS POR 3:\n",
      " SE     26464023\n",
      "NE       972975\n",
      "SUL      703569\n",
      "NOR     5469369\n",
      "CO       243702\n",
      "dtype: int64 \n",
      " MEDIA= 2256909.2\n"
     ]
    }
   ],
   "source": [
    "#UTILIZAÇÕES DE FUNÇÕES REMANESCENTES DO NUMPY:\n",
    "soma = s.sum()\n",
    "multiplicar = s*3\n",
    "media = s.mean()\n",
    "\n",
    "print(\"SOMA=\",soma,\"\\n\",\"MULTIPLICADOS POR 3:\\n\",multiplicar,\"\\n\",\"MEDIA=\",media)"
   ]
  },
  {
   "cell_type": "code",
   "execution_count": 33,
   "metadata": {},
   "outputs": [
    {
     "data": {
      "text/html": [
       "<div>\n",
       "<style scoped>\n",
       "    .dataframe tbody tr th:only-of-type {\n",
       "        vertical-align: middle;\n",
       "    }\n",
       "\n",
       "    .dataframe tbody tr th {\n",
       "        vertical-align: top;\n",
       "    }\n",
       "\n",
       "    .dataframe thead th {\n",
       "        text-align: right;\n",
       "    }\n",
       "</style>\n",
       "<table border=\"1\" class=\"dataframe\">\n",
       "  <thead>\n",
       "    <tr style=\"text-align: right;\">\n",
       "      <th></th>\n",
       "      <th>Coluna 1</th>\n",
       "    </tr>\n",
       "  </thead>\n",
       "  <tbody>\n",
       "    <tr>\n",
       "      <th>0</th>\n",
       "      <td>2</td>\n",
       "    </tr>\n",
       "    <tr>\n",
       "      <th>1</th>\n",
       "      <td>8</td>\n",
       "    </tr>\n",
       "    <tr>\n",
       "      <th>2</th>\n",
       "      <td>2</td>\n",
       "    </tr>\n",
       "    <tr>\n",
       "      <th>3</th>\n",
       "      <td>1</td>\n",
       "    </tr>\n",
       "    <tr>\n",
       "      <th>4</th>\n",
       "      <td>2</td>\n",
       "    </tr>\n",
       "    <tr>\n",
       "      <th>5</th>\n",
       "      <td>2</td>\n",
       "    </tr>\n",
       "    <tr>\n",
       "      <th>6</th>\n",
       "      <td>2</td>\n",
       "    </tr>\n",
       "    <tr>\n",
       "      <th>7</th>\n",
       "      <td>1</td>\n",
       "    </tr>\n",
       "    <tr>\n",
       "      <th>8</th>\n",
       "      <td>6</td>\n",
       "    </tr>\n",
       "    <tr>\n",
       "      <th>9</th>\n",
       "      <td>0</td>\n",
       "    </tr>\n",
       "  </tbody>\n",
       "</table>\n",
       "</div>"
      ],
      "text/plain": [
       "   Coluna 1\n",
       "0         2\n",
       "1         8\n",
       "2         2\n",
       "3         1\n",
       "4         2\n",
       "5         2\n",
       "6         2\n",
       "7         1\n",
       "8         6\n",
       "9         0"
      ]
     },
     "execution_count": 33,
     "metadata": {},
     "output_type": "execute_result"
    }
   ],
   "source": [
    "#DATAFRAME = TABELAS\n",
    "import numpy as np\n",
    "\n",
    "\n",
    "s = pd.Series(np.random.randint(0, 10, 10))\n",
    "pd.DataFrame(s, columns=['Coluna 1'])"
   ]
  },
  {
   "cell_type": "code",
   "execution_count": 38,
   "metadata": {},
   "outputs": [
    {
     "name": "stdout",
     "output_type": "stream",
     "text": [
      "Index(['idade', 'altura', 'sexo'], dtype='object')\n"
     ]
    },
    {
     "data": {
      "text/html": [
       "<div>\n",
       "<style scoped>\n",
       "    .dataframe tbody tr th:only-of-type {\n",
       "        vertical-align: middle;\n",
       "    }\n",
       "\n",
       "    .dataframe tbody tr th {\n",
       "        vertical-align: top;\n",
       "    }\n",
       "\n",
       "    .dataframe thead th {\n",
       "        text-align: right;\n",
       "    }\n",
       "</style>\n",
       "<table border=\"1\" class=\"dataframe\">\n",
       "  <thead>\n",
       "    <tr style=\"text-align: right;\">\n",
       "      <th></th>\n",
       "      <th>idade</th>\n",
       "      <th>altura</th>\n",
       "      <th>sexo</th>\n",
       "    </tr>\n",
       "  </thead>\n",
       "  <tbody>\n",
       "    <tr>\n",
       "      <th>0</th>\n",
       "      <td>19</td>\n",
       "      <td>164.889671</td>\n",
       "      <td>F</td>\n",
       "    </tr>\n",
       "    <tr>\n",
       "      <th>1</th>\n",
       "      <td>35</td>\n",
       "      <td>167.608956</td>\n",
       "      <td>M</td>\n",
       "    </tr>\n",
       "    <tr>\n",
       "      <th>2</th>\n",
       "      <td>19</td>\n",
       "      <td>163.901734</td>\n",
       "      <td>F</td>\n",
       "    </tr>\n",
       "    <tr>\n",
       "      <th>3</th>\n",
       "      <td>17</td>\n",
       "      <td>166.862848</td>\n",
       "      <td>F</td>\n",
       "    </tr>\n",
       "    <tr>\n",
       "      <th>4</th>\n",
       "      <td>43</td>\n",
       "      <td>166.372757</td>\n",
       "      <td>M</td>\n",
       "    </tr>\n",
       "  </tbody>\n",
       "</table>\n",
       "</div>"
      ],
      "text/plain": [
       "   idade      altura sexo\n",
       "0     19  164.889671    F\n",
       "1     35  167.608956    M\n",
       "2     19  163.901734    F\n",
       "3     17  166.862848    F\n",
       "4     43  166.372757    M"
      ]
     },
     "execution_count": 38,
     "metadata": {},
     "output_type": "execute_result"
    }
   ],
   "source": [
    "# DATAFRAME A PARTIR DE UM DICT DE SERIES\n",
    "s1 = pd.Series(np.random.randint(15,45,15))\n",
    "s2 = pd.Series(np.random.normal(170,5,15))\n",
    "s3 = pd.Series(np.random.binomial(n=1, p=0.5, size=15))\n",
    "s3 = s3.apply(lambda x: 'F' if x==0 else 'M')\n",
    "\n",
    "df = pd.DataFrame({\n",
    "    'idade':s1,\n",
    "    'altura':s2,\n",
    "    'sexo': s3\n",
    "})\n",
    "\n",
    "print(df.columns)\n",
    "df.head()"
   ]
  },
  {
   "cell_type": "code",
   "execution_count": 39,
   "metadata": {},
   "outputs": [
    {
     "data": {
      "text/html": [
       "<div>\n",
       "<style scoped>\n",
       "    .dataframe tbody tr th:only-of-type {\n",
       "        vertical-align: middle;\n",
       "    }\n",
       "\n",
       "    .dataframe tbody tr th {\n",
       "        vertical-align: top;\n",
       "    }\n",
       "\n",
       "    .dataframe thead th {\n",
       "        text-align: right;\n",
       "    }\n",
       "</style>\n",
       "<table border=\"1\" class=\"dataframe\">\n",
       "  <thead>\n",
       "    <tr style=\"text-align: right;\">\n",
       "      <th></th>\n",
       "      <th>nome</th>\n",
       "      <th>idade</th>\n",
       "      <th>altura</th>\n",
       "      <th>CPF</th>\n",
       "    </tr>\n",
       "  </thead>\n",
       "  <tbody>\n",
       "    <tr>\n",
       "      <th>0</th>\n",
       "      <td>Ana</td>\n",
       "      <td>23</td>\n",
       "      <td>1.67</td>\n",
       "      <td>12345</td>\n",
       "    </tr>\n",
       "    <tr>\n",
       "      <th>1</th>\n",
       "      <td>Pedro</td>\n",
       "      <td>30</td>\n",
       "      <td>1.75</td>\n",
       "      <td>67890</td>\n",
       "    </tr>\n",
       "    <tr>\n",
       "      <th>2</th>\n",
       "      <td>Maria</td>\n",
       "      <td>28</td>\n",
       "      <td>1.62</td>\n",
       "      <td>54321</td>\n",
       "    </tr>\n",
       "    <tr>\n",
       "      <th>3</th>\n",
       "      <td>João</td>\n",
       "      <td>25</td>\n",
       "      <td>1.80</td>\n",
       "      <td>98765</td>\n",
       "    </tr>\n",
       "    <tr>\n",
       "      <th>4</th>\n",
       "      <td>Carla</td>\n",
       "      <td>29</td>\n",
       "      <td>1.70</td>\n",
       "      <td>23456</td>\n",
       "    </tr>\n",
       "  </tbody>\n",
       "</table>\n",
       "</div>"
      ],
      "text/plain": [
       "    nome  idade  altura    CPF\n",
       "0    Ana     23    1.67  12345\n",
       "1  Pedro     30    1.75  67890\n",
       "2  Maria     28    1.62  54321\n",
       "3   João     25    1.80  98765\n",
       "4  Carla     29    1.70  23456"
      ]
     },
     "execution_count": 39,
     "metadata": {},
     "output_type": "execute_result"
    }
   ],
   "source": [
    "#DATAFRAME A PARTIR DE UMA LISTA DE DICTS:\n",
    "p1 = {'nome': 'Ana', 'idade':23, 'altura':1.67, 'CPF': 12345}\n",
    "p2 =  {'nome': 'Pedro', 'idade': 30, 'altura': 1.75, 'CPF': 67890}\n",
    "p3 =  {'nome': 'Maria', 'idade': 28, 'altura': 1.62, 'CPF': 54321}\n",
    "p4 =  {'nome': 'João', 'idade': 25, 'altura': 1.80, 'CPF': 98765}\n",
    "p5 =  {'nome': 'Carla', 'idade': 29, 'altura': 1.70, 'CPF': 23456}\n",
    "p6 = {'nome': 'Lucas', 'idade': 26, 'altura': 1.76, 'CPF': 34567}\n",
    "\n",
    "lista = [p1,p2,p3,p4,p5]\n",
    "\n",
    "pd.DataFrame(lista)\n"
   ]
  },
  {
   "cell_type": "code",
   "execution_count": 40,
   "metadata": {},
   "outputs": [
    {
     "data": {
      "text/html": [
       "<div>\n",
       "<style scoped>\n",
       "    .dataframe tbody tr th:only-of-type {\n",
       "        vertical-align: middle;\n",
       "    }\n",
       "\n",
       "    .dataframe tbody tr th {\n",
       "        vertical-align: top;\n",
       "    }\n",
       "\n",
       "    .dataframe thead th {\n",
       "        text-align: right;\n",
       "    }\n",
       "</style>\n",
       "<table border=\"1\" class=\"dataframe\">\n",
       "  <thead>\n",
       "    <tr style=\"text-align: right;\">\n",
       "      <th></th>\n",
       "      <th>idade</th>\n",
       "      <th>altura</th>\n",
       "      <th>sexo</th>\n",
       "      <th>peso</th>\n",
       "    </tr>\n",
       "  </thead>\n",
       "  <tbody>\n",
       "    <tr>\n",
       "      <th>0</th>\n",
       "      <td>19</td>\n",
       "      <td>164.889671</td>\n",
       "      <td>F</td>\n",
       "      <td>67.453439</td>\n",
       "    </tr>\n",
       "    <tr>\n",
       "      <th>1</th>\n",
       "      <td>35</td>\n",
       "      <td>167.608956</td>\n",
       "      <td>M</td>\n",
       "      <td>69.414353</td>\n",
       "    </tr>\n",
       "    <tr>\n",
       "      <th>2</th>\n",
       "      <td>19</td>\n",
       "      <td>163.901734</td>\n",
       "      <td>F</td>\n",
       "      <td>96.637949</td>\n",
       "    </tr>\n",
       "    <tr>\n",
       "      <th>3</th>\n",
       "      <td>17</td>\n",
       "      <td>166.862848</td>\n",
       "      <td>F</td>\n",
       "      <td>81.740477</td>\n",
       "    </tr>\n",
       "    <tr>\n",
       "      <th>4</th>\n",
       "      <td>43</td>\n",
       "      <td>166.372757</td>\n",
       "      <td>M</td>\n",
       "      <td>65.677388</td>\n",
       "    </tr>\n",
       "  </tbody>\n",
       "</table>\n",
       "</div>"
      ],
      "text/plain": [
       "   idade      altura sexo       peso\n",
       "0     19  164.889671    F  67.453439\n",
       "1     35  167.608956    M  69.414353\n",
       "2     19  163.901734    F  96.637949\n",
       "3     17  166.862848    F  81.740477\n",
       "4     43  166.372757    M  65.677388"
      ]
     },
     "execution_count": 40,
     "metadata": {},
     "output_type": "execute_result"
    }
   ],
   "source": [
    "# Adição de novas colunas:\n",
    "peso = np.random.normal(75, 10, 15)\n",
    "df['peso'] = peso\n",
    "df.head()"
   ]
  },
  {
   "cell_type": "code",
   "execution_count": 45,
   "metadata": {},
   "outputs": [
    {
     "data": {
      "text/html": [
       "<div>\n",
       "<style scoped>\n",
       "    .dataframe tbody tr th:only-of-type {\n",
       "        vertical-align: middle;\n",
       "    }\n",
       "\n",
       "    .dataframe tbody tr th {\n",
       "        vertical-align: top;\n",
       "    }\n",
       "\n",
       "    .dataframe thead th {\n",
       "        text-align: right;\n",
       "    }\n",
       "</style>\n",
       "<table border=\"1\" class=\"dataframe\">\n",
       "  <thead>\n",
       "    <tr style=\"text-align: right;\">\n",
       "      <th></th>\n",
       "      <th>idade</th>\n",
       "      <th>altura</th>\n",
       "      <th>sexo</th>\n",
       "      <th>peso</th>\n",
       "      <th>imc</th>\n",
       "    </tr>\n",
       "  </thead>\n",
       "  <tbody>\n",
       "    <tr>\n",
       "      <th>0</th>\n",
       "      <td>19</td>\n",
       "      <td>164.889671</td>\n",
       "      <td>F</td>\n",
       "      <td>67.453439</td>\n",
       "      <td>0.409082</td>\n",
       "    </tr>\n",
       "    <tr>\n",
       "      <th>1</th>\n",
       "      <td>35</td>\n",
       "      <td>167.608956</td>\n",
       "      <td>M</td>\n",
       "      <td>69.414353</td>\n",
       "      <td>0.414145</td>\n",
       "    </tr>\n",
       "    <tr>\n",
       "      <th>2</th>\n",
       "      <td>19</td>\n",
       "      <td>163.901734</td>\n",
       "      <td>F</td>\n",
       "      <td>96.637949</td>\n",
       "      <td>0.589609</td>\n",
       "    </tr>\n",
       "    <tr>\n",
       "      <th>3</th>\n",
       "      <td>17</td>\n",
       "      <td>166.862848</td>\n",
       "      <td>F</td>\n",
       "      <td>81.740477</td>\n",
       "      <td>0.489866</td>\n",
       "    </tr>\n",
       "    <tr>\n",
       "      <th>4</th>\n",
       "      <td>43</td>\n",
       "      <td>166.372757</td>\n",
       "      <td>M</td>\n",
       "      <td>65.677388</td>\n",
       "      <td>0.394760</td>\n",
       "    </tr>\n",
       "  </tbody>\n",
       "</table>\n",
       "</div>"
      ],
      "text/plain": [
       "   idade      altura sexo       peso       imc\n",
       "0     19  164.889671    F  67.453439  0.409082\n",
       "1     35  167.608956    M  69.414353  0.414145\n",
       "2     19  163.901734    F  96.637949  0.589609\n",
       "3     17  166.862848    F  81.740477  0.489866\n",
       "4     43  166.372757    M  65.677388  0.394760"
      ]
     },
     "execution_count": 45,
     "metadata": {},
     "output_type": "execute_result"
    }
   ],
   "source": [
    "imc = df['peso']/df['altura']\n",
    "df['imc'] = imc\n",
    "df.head()"
   ]
  },
  {
   "cell_type": "code",
   "execution_count": null,
   "metadata": {},
   "outputs": [],
   "source": []
  },
  {
   "cell_type": "code",
   "execution_count": null,
   "metadata": {},
   "outputs": [],
   "source": []
  }
 ],
 "metadata": {
  "colab": {
   "provenance": []
  },
  "kernelspec": {
   "display_name": "Python 3 (ipykernel)",
   "language": "python",
   "name": "python3"
  },
  "language_info": {
   "codemirror_mode": {
    "name": "ipython",
    "version": 3
   },
   "file_extension": ".py",
   "mimetype": "text/x-python",
   "name": "python",
   "nbconvert_exporter": "python",
   "pygments_lexer": "ipython3",
   "version": "3.11.5"
  }
 },
 "nbformat": 4,
 "nbformat_minor": 1
}
